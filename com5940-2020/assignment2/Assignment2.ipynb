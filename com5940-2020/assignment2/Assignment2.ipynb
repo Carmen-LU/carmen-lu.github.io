{
 "cells": [
  {
   "cell_type": "code",
   "execution_count": null,
   "metadata": {},
   "outputs": [
    {
     "name": "stderr",
     "output_type": "stream",
     "text": [
      " * Running on http://localhost:3306/ (Press CTRL+C to quit)\n"
     ]
    }
   ],
   "source": [
    "from flask import Flask, render_template\n",
    "import requests\n",
    "\n",
    "app = Flask(__name__)\n",
    "\n",
    "@app.route(\"/\")\n",
    "def home():\n",
    "    user = {\"name\":\"張敬軒的音樂世界\"}\n",
    "    headers = {'Authorization': 'Bearer key03pQCloI106IjB',}\n",
    "    params = (('view', 'Grid view'),)\n",
    "\n",
    "    r = requests.get('https://api.airtable.com/v0/appIRhjgYeH6hJJUT/Album?api_key=key03pQCloI106IjB', headers=headers, params=params)\n",
    "    dict = r.json()\n",
    "    dataset = []\n",
    "    \n",
    "    for i in dict['records']:\n",
    "         dict = i['fields']\n",
    "         dataset.append(dict)\n",
    "    #  {% for row in dataset  %}{{ row[\"name\"] }}{% endfor %}\n",
    "    return render_template('Assignment2.html',album_user=user, dataset=dataset)\n",
    "\n",
    "if __name__ == '__main__':\n",
    "    from werkzeug.serving import run_simple\n",
    "    run_simple('localhost', 3306, app)\n",
    "# if __name__ == '__main__':\n",
    "   # app.run(debug = True)"
   ]
  },
  {
   "cell_type": "code",
   "execution_count": null,
   "metadata": {},
   "outputs": [],
   "source": []
  }
 ],
 "metadata": {
  "kernelspec": {
   "display_name": "Python 3",
   "language": "python",
   "name": "python3"
  },
  "language_info": {
   "codemirror_mode": {
    "name": "ipython",
    "version": 3
   },
   "file_extension": ".py",
   "mimetype": "text/x-python",
   "name": "python",
   "nbconvert_exporter": "python",
   "pygments_lexer": "ipython3",
   "version": "3.7.4"
  }
 },
 "nbformat": 4,
 "nbformat_minor": 2
}
