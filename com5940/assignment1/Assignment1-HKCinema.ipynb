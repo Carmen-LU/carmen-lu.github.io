{
 "cells": [
  {
   "cell_type": "code",
   "execution_count": 7,
   "metadata": {},
   "outputs": [
    {
     "name": "stdout",
     "output_type": "stream",
     "text": [
      "Requirement already satisfied: PyMySQL in /opt/anaconda3/lib/python3.7/site-packages (0.9.3)\r\n"
     ]
    }
   ],
   "source": [
    "!pip install PyMySQL"
   ]
  },
  {
   "cell_type": "code",
   "execution_count": 8,
   "metadata": {},
   "outputs": [],
   "source": [
    "import pymysql.cursors\n",
    "connection = pymysql.connect(host=\"localhost\", \n",
    "                     user=\"root\",   \n",
    "                     passwd=\"root\", \n",
    "                     db=\"Assignment\",   \n",
    "                     charset='utf8mb4',\n",
    "                     cursorclass=pymysql.cursors.DictCursor)"
   ]
  },
  {
   "cell_type": "code",
   "execution_count": 9,
   "metadata": {},
   "outputs": [
    {
     "name": "stdout",
     "output_type": "stream",
     "text": [
      "\n",
      "\n",
      "[{'影院名稱': 'AMC Pacific Place', '院線': 'AMC', '電話': '2265-8933', '官網': 'http://www.amccinemas.com.hk/', '地區': '港島', '行政分區': '中西區', '地址': '金鐘 金鐘道88號 太古廣場L1'}, {'影院名稱': 'CGV Cinemas D2 Place', '院線': 'CGV院線', '電話': '1544-1122', '官網': 'https://cgv.com.hk/', '地區': '九龍', '行政分區': '深水埗區', '地址': '荔枝角 長順街15號 D2 Place 二期 10-11樓'}, {'影院名稱': 'Cinema City Candy Park', '院線': 'Cinema City', '電話': '2360-0910', '官網': 'http://www.cinemacity.com.hk/tc/site/cinemainfo/5', '地區': '新界', '行政分區': '荃灣區', '地址': '荃灣 愉景新城 第一層 1036號舖'}, {'影院名稱': 'Cinema City JP', '院線': 'Cinema City', '電話': '2360-0910', '官網': 'http://www.cinemacity.com.hk/tc/site/cinemaInfo/3', '地區': '港島', '行政分區': '灣仔區', '地址': '銅鑼灣 百德新街22-36號 翡翠明珠廣場'}, {'影院名稱': 'Cinema City Victoria', '院線': 'Cinema City', '電話': '2360-0910', '官網': 'http://www.cinemacity.com.hk/tc/site/cinemaInfo/4', '地區': '港島', '行政分區': '灣仔區', '地址': '銅鑼灣 糖街2-8號 地下'}, {'影院名稱': 'Cinema City 朗豪坊', '院線': 'Cinema City', '電話': '2360-0910', '官網': 'http://www.cinemacity.com.hk/tc/site/cinemaInfo/1', '地區': '九龍', '行政分區': '油尖旺區', '地址': '旺角 亞皆老街8號 朗豪坊商場 8至11樓'}, {'影院名稱': 'Cinema City 柴灣', '院線': 'Cinema City', '電話': '2360-0910', '官網': 'http://www.cinemacity.com.hk/tc/site/cinemaInfo/2', '地區': '港島', '行政分區': '東區', '地址': '柴灣 柴灣道333號 永利中心 地下至4樓'}, {'影院名稱': 'L Cinema', '院線': '獨立', '電話': '2209-4916', '官網': 'https://www.facebook.com/L-Cinema-Shau-Kei-Wan-463814693803369', '地區': '港島', '行政分區': '東區', '地址': '筲箕灣 望隆街 銀河廣場二樓'}, {'影院名稱': 'Lumen Cinema', '院線': '獨立', '電話': '2638-1826', '官網': 'https://www.facebook.com/lumencinemahk/', '地區': '新界', '行政分區': '葵青區', '地址': '葵涌 打磚坪街1至25號 寶星中心 地下'}, {'影院名稱': 'MCL Festival Grand Cinema', '院線': 'MCL戲院', '電話': '2237-1992', '官網': 'http://www.mclcinema.com/MCLCinema.aspx?ci=012&visLang=1', '地區': '九龍', '行政分區': '深水埗區', '地址': '九龍塘 達之路80號 又一城 UG層'}, {'影院名稱': 'MCL MOVIE TOWN 新城市廣場', '院線': 'MCL戲院', '電話': None, '官網': 'http://www.mclcinema.com/MCLCinema.aspx?ci=014&visLang=1', '地區': '新界', '行政分區': '沙田區', '地址': '沙田 新城市廣場第1期 L1-L3樓層'}, {'影院名稱': 'MCL STAR Cinema', '院線': 'MCL戲院', '電話': '2706-9800', '官網': 'http://www.mclcinema.com/MCLCinema.aspx?ci=009&visLang=1', '地區': '新界', '行政分區': '西貢區', '地址': '將軍澳 唐賢街9號 PopCorn 1樓'}, {'影院名稱': 'MCL 康怡戲院', '院線': 'MCL戲院', '電話': '2513-8028', '官網': 'http://www.mclcinema.com/MCLCinema.aspx?ci=006&visLang=1', '地區': '港島', '行政分區': '東區', '地址': '鰂魚涌 康山道2號 康怡廣場南座 4樓'}, {'影院名稱': 'MCL 德福戲院', '院線': 'MCL戲院', '電話': '2759-2248', '官網': 'http://www.mclcinema.com/MCLCinema.aspx?ci=005&visLang=1', '地區': '九龍', '行政分區': '觀塘區', '地址': '九龍塘 偉業街33號 德福花園 平台'}, {'影院名稱': 'MCL 新都城戲院', '院線': 'MCL戲院', '電話': '3194-5179', '官網': 'http://www.mclcinema.com/MCLCinema.aspx?ci=002&visLang=1', '地區': '新界', '行政分區': '西貢區', '地址': '將軍澳 欣景路8號 新都城2期 地下'}, {'影院名稱': 'MCL 海怡戲院', '院線': 'MCL戲院', '電話': '2180-7326', '官網': 'http://www.mclcinema.com/MCLCinema.aspx?ci=011&visLang=1', '地區': '港島', '行政分區': '南區', '地址': '鴨脷洲 海怡路18A 海怡半島商場東翼 4樓'}, {'影院名稱': 'MCL 皇室戲院', '院線': 'MCL戲院', '電話': '2129-0148', '官網': 'http://www.mclcinema.com/MCLCinema.aspx?ci=003&visLang=1', '地區': '港島', '行政分區': '灣仔區', '地址': '銅鑼灣 告士打道311號 皇室堡 4樓'}, {'影院名稱': 'MCL 長沙灣戲院', '院線': 'MCL戲院', '電話': None, '官網': 'http://www.mclcinema.com/MCLCinema.aspx?ci=015&visLang=1', '地區': '九龍', '行政分區': '深水埗區', '地址': '長沙灣 長沙灣道680號 麗新商業中心 G56,G58-59號舖'}, {'影院名稱': 'UA Cine Moko', '院線': 'UA Cinemas', '電話': '3918-5888', '官網': 'http://www.uacinemas.com.hk/chi/cinema/2', '地區': '九龍', '行政分區': '油尖旺區', '地址': '旺角 太子道西193號 新世紀廣場 L4樓'}, {'影院名稱': 'UA Cine Times', '院線': 'UA Cinemas', '電話': '3918-5888', '官網': 'http://www.uacinemas.com.hk/chi/cinema/1', '地區': '港島', '行政分區': '灣仔區', '地址': '銅鑼灣 勿地臣街1號 時代廣場 13樓'}, {'影院名稱': 'UA K11 Art House', '院線': 'UA Cinemas', '電話': '3918-5888', '官網': 'https://www.uacinemas.com.hk/chi/cinema/1101', '地區': '九龍', '行政分區': '油尖旺區', '地址': '尖沙咀 梳士巴利道18號 Victoria Dockside K11 MUSEA L4 樓層'}, {'影院名稱': 'UA MegaBox', '院線': 'UA Cinemas', '電話': '3918-5888', '官網': 'http://www.uacinemas.com.hk/chi/cinema/7', '地區': '九龍', '行政分區': '觀塘區', '地址': '九龍灣 宏照道38號 企業廣場5期 MegaBox 11樓'}, {'影院名稱': 'UA 東薈城', '院線': 'UA Cinemas', '電話': '3918-5888', '官網': 'https://www.uacinemas.com.hk/chi/cinema/1201', '地區': '新界', '行政分區': '離島區', '地址': '東涌 達東路18-20號 東薈城名店倉 6樓'}, {'影院名稱': 'UA 淘大', '院線': 'UA Cinemas', '電話': '3918-5888', '官網': 'https://www.uacinemas.com.hk/chi/cinema/16', '地區': '九龍', '行政分區': '觀塘區', '地址': '九龍灣 牛頭角道77號 淘大商場三期'}, {'影院名稱': 'UA 青衣城', '院線': 'UA Cinemas', '電話': '3918-5888', '官網': 'https://www.uacinemas.com.hk/chi/cinema/15', '地區': '新界', '行政分區': '葵青區', '地址': '青衣 青衣城2期 3樓'}, {'影院名稱': '元朗戲院', '院線': '獨立', '電話': '2317-6666', '官網': 'http://www.cityline.com/cinema/yuenlong_cinema.do', '地區': '新界', '行政分區': '元朗區', '地址': '元朗 炮仗坊8號'}, {'影院名稱': '凱都戲院', '院線': '新寶院線', '電話': '2459-4857', '官網': 'http://www.theatre.com.hk/tc/cinema/hyland_theatre', '地區': '新界', '行政分區': '屯門區', '地址': '屯門 鄉事會路136號'}, {'影院名稱': '嘉禾 StagE', '院線': '嘉禾院線', '電話': '3842-0888', '官網': 'https://www.goldenharvest.com/cinema/schedule?cinema_id=10', '地區': '新界', '行政分區': '屯門區', '地址': '屯門 屯門市廣場1期 3樓 3201鋪'}, {'影院名稱': '嘉禾 the sky 奧海城', '院線': '嘉禾院線', '電話': '2359-3166', '官網': 'https://www.theskycinema.com/', '地區': '九龍', '行政分區': '油尖旺區', '地址': '西九龍 海庭道18號 奧海城2期 1樓'}, {'影院名稱': '嘉禾 V WALK', '院線': '嘉禾院線', '電話': '2790-2100', '官網': 'https://www.goldenharvest.com/cinema/schedule?cinema_id=12', '地區': '九龍', '行政分區': '深水埗區', '地址': '西九龍 港鐵南昌站 V Walk L2-139A'}, {'影院名稱': '嘉禾 啟德', '院線': '嘉禾院線', '電話': '2615-2333', '官網': 'https://www.goldenharvest.com/cinema/schedule?cinema_id=11', '地區': '九龍', '行政分區': '黃大仙區', '地址': '新蒲崗 寧遠街9號 越秀廣場 3樓'}, {'影院名稱': '嘉禾 海運戲院', '院線': '嘉禾院線', '電話': '2377-2100', '官網': 'https://www.goldenharvest.com/cinema/schedule?cinema_id=3', '地區': '九龍', '行政分區': '油尖旺區', '地址': '尖沙咀 廣東道3號 海運大廈 地下'}, {'影院名稱': '嘉禾 粉嶺', '院線': '嘉禾院線', '電話': None, '官網': 'https://www.goldenharvest.com/cinema/schedule?cinema_id=6', '地區': '新界', '行政分區': '北區', '地址': '粉嶺 名都商場 8-9號舖'}, {'影院名稱': '嘉禾 黃埔', '院線': '嘉禾院線', '電話': '2622-6688', '官網': 'https://www.goldenharvest.com/cinema/schedule?cinema_id=8', '地區': '九龍', '行政分區': '九龍城區', '地址': '紅磡 德安街7號 黃埔花園第8期 黃埔廣場 2樓'}, {'影院名稱': '寶石戲院', '院線': '獨立', '電話': '2365-7116', '官網': 'https://www.facebook.com/LuxTheatre', '地區': '九龍', '行政分區': '九龍城區', '地址': '\\u200e紅磡 寶其利街2號J'}, {'影院名稱': '巴黎倫敦紐約米蘭戲院', '院線': '华懋电影院线', '電話': '2452-2123', '官網': 'https://www.cel-cinemas.com/', '地區': '新界', '行政分區': '屯門區', '地址': '屯門 河傍街 康麗花園 地下'}, {'影院名稱': '新光Super3三面廳影院', '院線': '獨立', '電話': '2563-2959', '官網': 'https://www.cityline.com/cinema/super3.do', '地區': '港島', '行政分區': '東區', '地址': '北角 英皇道423號'}, {'影院名稱': '新寶戲院', '院線': '新寶院線', '電話': '2332-1939', '官網': 'http://www.theatre.com.hk/tc/cinema/newport_theatre', '地區': '九龍', '行政分區': '油尖旺區', '地址': '旺角 豉油街60號'}, {'影院名稱': '星影匯', '院線': '獨立', '電話': None, '官網': 'http://www.metroplex.com.hk/', '地區': '九龍', '行政分區': '觀塘區', '地址': '九龍灣 展貿徑1號 九龍灣國際展貿中心E-Max 地下'}, {'影院名稱': '百老匯 MOViE MOViE Cityplaza', '院線': '百老匯戲院', '電話': '2388-0002', '官網': 'http://www.cinema.com.hk/tc/site/cinemainfo/MOViE-MOViE-Cityplaza/info', '地區': '港島', '行政分區': '東區', '地址': '太古 太古城道18號 太古城中心1期 5樓'}, {'影院名稱': '百老匯 MY CINEMA YOHO MALL', '院線': '百老匯戲院', '電話': '2388-0002', '官網': 'http://www.cinema.com.hk/tc/site/cinemainfo/MY-CINEMA-YOHO-MALL/info', '地區': '新界', '行政分區': '元朗區', '地址': '元朗 朗日路9號YOHO MALL I 1樓 1021舖'}, {'影院名稱': '百老匯 PALACE apm', '院線': '百老匯戲院', '電話': '2388-0002', '官網': 'http://www.cinema.com.hk/tc/site/cinemainfo/PALACE-apm/info', '地區': '九龍', '行政分區': '觀塘區', '地址': '觀塘 觀塘道418號 創紀之城五期apm 6樓'}, {'影院名稱': '百老匯 PALACE ifc', '院線': '百老匯戲院', '電話': '2388-6268', '官網': 'http://www.cinema.com.hk/tc/site/cinemainfo/PALACE-ifc/info', '地區': '港島', '行政分區': '中西區', '地址': '中環 金融街8號 國際金融中心商場 1樓'}, {'影院名稱': '百老匯 PREMIERE ELEMENTS', '院線': '百老匯戲院', '電話': '2388-0002', '官網': 'https://www.cinema.com.hk/tc/site/cinemainfo/PREMIERE-ELEMENTS/info', '地區': '九龍', '行政分區': '油尖旺區', '地址': '尖沙咀 柯士甸道西1號 圓方商場 2樓火區'}, {'影院名稱': '百老匯 The ONE', '院線': '百老匯戲院', '電話': '2388-0002', '官網': 'http://www.cinema.com.hk/tc/site/cinemainfo/The-ONE/info', '地區': '九龍', '行政分區': '油尖旺區', '地址': '尖沙咀 彌敦道100號 The ONE 6-11樓'}, {'影院名稱': '百老匯 嘉湖銀座', '院線': '百老匯戲院', '電話': '2388-0002', '官網': 'http://www.cinema.com.hk/tc/site/cinemainfo/KINGSWOOD-GINZA/info', '地區': '新界', '行政分區': '元朗區', '地址': '天水圍 天恩路18號 嘉湖銀座廣場'}, {'影院名稱': '百老匯 數碼港', '院線': '百老匯戲院', '電話': '2388-0002', '官網': 'http://www.cinema.com.hk/tc/site/cinemainfo/CYBERPORT/info', '地區': '港島', '行政分區': '南區', '地址': '數碼港 數碼港道100號 數碼港商場 3號地鋪'}, {'影院名稱': '百老匯 旺角', '院線': '百老匯戲院', '電話': '2388-0002', '官網': 'http://www.cinema.com.hk/tc/site/cinemainfo/MONGKOK/info', '地區': '九龍', '行政分區': '油尖旺區', '地址': '旺角 西洋菜南街6-12號'}, {'影院名稱': '百老匯 荃灣', '院線': '百老匯戲院', '電話': '2388-0002', '官網': 'http://www.cinema.com.hk/tc/site/cinemainfo/TSUEN-WAN/info', '地區': '新界', '行政分區': '荃灣區', '地址': '荃灣 大壩街4-30號 荃灣廣場 L1-L3'}, {'影院名稱': '百老匯 荷里活', '院線': '百老匯戲院', '電話': '2388-0002', '官網': 'http://www.cinema.com.hk/tc/site/cinemainfo/HOLLYWOOD/info', '地區': '九龍', '行政分區': '黃大仙區', '地址': '鑽石山 龍墦街3號 荷里活廣場 3樓'}, {'影院名稱': '百老匯 葵芳', '院線': '百老匯戲院', '電話': '2388-0002', '官網': 'http://www.cinema.com.hk/tc/site/cinemainfo/KWAI-FONG/info', '地區': '新界', '行政分區': '葵青區', '地址': '葵芳 興芳路223號 新都會廣場 L1-L4'}, {'影院名稱': '百老匯 電影中心', '院線': '百老匯戲院', '電話': '2388-0002', '官網': 'http://www.cinema.com.hk/tc/site/cinemainfo/CINEMATHEQUE/info', '地區': '九龍', '行政分區': '油尖旺區', '地址': '油麻地 眾坊街3號 駿發花園 H2地舖'}, {'影院名稱': '總統戲院', '院線': '新寶院線', '電話': '2836-5581', '官網': 'http://www.theatre.com.hk/tc/cinema/president_theatre', '地區': '港島', '行政分區': '灣仔區', '地址': '銅鑼灣 謝菲道517號'}, {'影院名稱': '英皇戲院 中環娛樂行', '院線': '英皇戲院', '電話': '2522-2996', '官網': 'https://www.emperorcinemas.com/zh/ticketing/by_date/1', '地區': '港島', '行政分區': '中西區', '地址': '中環 皇后大道中30號 娛樂行 3樓'}, {'影院名稱': '英皇戲院 屯門新都商場', '院線': '英皇戲院', '電話': '2522-2996', '官網': 'https://www.emperorcinemas.com/zh/ticketing/by_date/2', '地區': '新界', '行政分區': '屯門區', '地址': '屯門 新都商場 二樓'}, {'影院名稱': '英皇戲院 馬鞍山新港城中心', '院線': '英皇戲院', '電話': '2522-2996', '官網': 'https://www.emperorcinemas.com/zh/ticketing/by_date/3', '地區': '新界', '行政分區': '沙田區', '地址': '馬鞍山 鞍祿街18號 新港城中心 2樓'}, {'影院名稱': '豪華戲院', '院線': '新寶院線', '電話': '2399-0363', '官網': 'http://www.theatre.com.hk/tc/cinema/dynasty_theatre', '地區': '九龍', '行政分區': '油尖旺區', '地址': '旺角 旺角道4號'}, {'影院名稱': '香港藝術中心古天樂電影院', '院線': '獨立', '電話': '2582-0200', '官網': 'https://hkac.org.hk/artsatthecentre_screening/', '地區': '港島', '行政分區': '灣仔區', '地址': 'wan港灣道2號 香港藝術中心 高層地庫'}]\n",
      "\n",
      "\n"
     ]
    }
   ],
   "source": [
    "with connection.cursor() as cursor:\n",
    "        sql = \"SELECT * FROM HKCinema\"\n",
    "        cursor.execute(sql)\n",
    "        result = cursor.fetchall()\n",
    "        dataset = []\n",
    "        temp = {}\n",
    "        i = 0\n",
    "        for row in result:\n",
    "            temp[i] = row\n",
    "            dataset.append(temp[i])\n",
    "            i = i + 1\n",
    "        print('\\n')\n",
    "        print(dataset)\n",
    "        print('\\n')"
   ]
  },
  {
   "cell_type": "code",
   "execution_count": 10,
   "metadata": {},
   "outputs": [
    {
     "name": "stdout",
     "output_type": "stream",
     "text": [
      "Requirement already satisfied: requests in /opt/anaconda3/lib/python3.7/site-packages (2.22.0)\r\n",
      "Requirement already satisfied: urllib3!=1.25.0,!=1.25.1,<1.26,>=1.21.1 in /opt/anaconda3/lib/python3.7/site-packages (from requests) (1.24.2)\r\n",
      "Requirement already satisfied: idna<2.9,>=2.5 in /opt/anaconda3/lib/python3.7/site-packages (from requests) (2.8)\r\n",
      "Requirement already satisfied: chardet<3.1.0,>=3.0.2 in /opt/anaconda3/lib/python3.7/site-packages (from requests) (3.0.4)\r\n",
      "Requirement already satisfied: certifi>=2017.4.17 in /opt/anaconda3/lib/python3.7/site-packages (from requests) (2019.9.11)\r\n"
     ]
    }
   ],
   "source": [
    "!pip install requests"
   ]
  },
  {
   "cell_type": "code",
   "execution_count": 11,
   "metadata": {},
   "outputs": [
    {
     "name": "stdout",
     "output_type": "stream",
     "text": [
      "[{'影院名稱': '百老匯 荷里活', '院線': '百老匯戲院', '電話': '2388-0002', '官網': 'http://www.cinema.com.hk/tc/site/cinemainfo/HOLLYWOOD/info', '地區': '九龍', '行政分區': '黃大仙區', '地址': '鑽石山 龍墦街3號 荷里活廣場 3樓'}, {'影院名稱': '豪華戲院', '院線': '新寶院線', '電話': '2399-0363', '官網': 'http://www.theatre.com.hk/tc/cinema/dynasty_theatre', '地區': '九龍', '行政分區': '油尖旺區', '地址': '旺角 旺角道4號'}, {'影院名稱': 'UA 東薈城', '院線': 'UA Cinemas', '電話': '3918-5888', '官網': 'https://www.uacinemas.com.hk/chi/cinema/1201', '地區': '新界', '行政分區': '離島區', '地址': '東涌 達東路18-20號 東薈城名店倉 6樓'}, {'影院名稱': 'UA 青衣城', '院線': 'UA Cinemas', '電話': '3918-5888', '官網': 'https://www.uacinemas.com.hk/chi/cinema/15', '地區': '新界', '行政分區': '葵青區', '地址': '青衣 青衣城2期 3樓'}, {'影院名稱': '新光Super3三面廳影院', '院線': '獨立', '電話': '2563-2959', '官網': 'https://www.cityline.com/cinema/super3.do', '地區': '港島', '行政分區': '東區', '地址': '北角 英皇道423號'}, {'影院名稱': 'Lumen Cinema', '院線': '獨立', '電話': '2638-1826', '官網': 'https://www.facebook.com/lumencinemahk/', '地區': '新界', '行政分區': '葵青區', '地址': '葵涌 打磚坪街1至25號 寶星中心 地下'}, {'影院名稱': 'MCL 長沙灣戲院', '院線': 'MCL戲院', '官網': 'http://www.mclcinema.com/MCLCinema.aspx?ci=015&visLang=1', '地區': '九龍', '行政分區': '深水埗區', '地址': '長沙灣 長沙灣道680號 麗新商業中心 G56,G58-59號舖'}, {'影院名稱': '嘉禾 the sky 奧海城', '院線': '嘉禾院線', '電話': '2359-3166', '官網': 'https://www.theskycinema.com/', '地區': '九龍', '行政分區': '油尖旺區', '地址': '西九龍 海庭道18號 奧海城2期 1樓'}, {'影院名稱': '百老匯 MY CINEMA YOHO MALL', '院線': '百老匯戲院', '電話': '2388-0002', '官網': 'http://www.cinema.com.hk/tc/site/cinemainfo/MY-CINEMA-YOHO-MALL/info', '地區': '新界', '行政分區': '元朗區', '地址': '元朗 朗日路9號YOHO MALL I 1樓 1021舖'}, {'影院名稱': 'UA Cine Times', '院線': 'UA Cinemas', '電話': '3918-5888', '官網': 'http://www.uacinemas.com.hk/chi/cinema/1', '地區': '港島', '行政分區': '灣仔區', '地址': '銅鑼灣 勿地臣街1號 時代廣場 13樓'}, {'影院名稱': '百老匯 旺角', '院線': '百老匯戲院', '電話': '2388-0002', '官網': 'http://www.cinema.com.hk/tc/site/cinemainfo/MONGKOK/info', '地區': '九龍', '行政分區': '油尖旺區', '地址': '旺角 西洋菜南街6-12號'}, {'影院名稱': 'MCL STAR Cinema', '院線': 'MCL戲院', '電話': '2706-9800', '官網': 'http://www.mclcinema.com/MCLCinema.aspx?ci=009&visLang=1', '地區': '新界', '行政分區': '西貢區', '地址': '將軍澳 唐賢街9號 PopCorn 1樓'}, {'影院名稱': '百老匯 PALACE ifc', '院線': '百老匯戲院', '電話': '2388-6268', '官網': 'http://www.cinema.com.hk/tc/site/cinemainfo/PALACE-ifc/info', '地區': '港島', '行政分區': '中西區', '地址': '中環 金融街8號 國際金融中心商場 1樓'}, {'影院名稱': '百老匯 數碼港', '院線': '百老匯戲院', '電話': '2388-0002', '官網': 'http://www.cinema.com.hk/tc/site/cinemainfo/CYBERPORT/info', '地區': '港島', '行政分區': '南區', '地址': '數碼港 數碼港道100號 數碼港商場 3號地鋪'}, {'影院名稱': 'MCL 粉嶺戲院', '院線': 'MCL戲院', '電話': '2579-0733', '官網': 'http://www.mclcinema.com/MCLCinema.aspx?ci=013&visLang=1', '地區': '新界', '行政分區': '北區', '地址': '粉嶺 馬適路1號 逸峯廣場 G12號舖'}, {'影院名稱': 'MCL 康怡戲院', '院線': 'MCL戲院', '電話': '2513-8028', '官網': 'http://www.mclcinema.com/MCLCinema.aspx?ci=006&visLang=1', '地區': '港島', '行政分區': '東區', '地址': '鰂魚涌 康山道2號 康怡廣場南座 4樓'}, {'影院名稱': '嘉禾 StagE', '院線': '嘉禾院線', '電話': '3842-0888', '官網': 'https://www.goldenharvest.com/cinema/schedule?cinema_id=10', '地區': '新界', '行政分區': '屯門區', '地址': '屯門 屯門市廣場1期 3樓 3201鋪'}, {'影院名稱': 'MCL MOVIE TOWN 新城市廣場', '院線': 'MCL戲院', '官網': 'http://www.mclcinema.com/MCLCinema.aspx?ci=014&visLang=1', '地區': '新界', '行政分區': '沙田區', '地址': '沙田 新城市廣場第1期 L1-L3樓層'}, {'影院名稱': 'MCL 新都城戲院', '院線': 'MCL戲院', '電話': '3194-5179', '官網': 'http://www.mclcinema.com/MCLCinema.aspx?ci=002&visLang=1', '地區': '新界', '行政分區': '西貢區', '地址': '將軍澳 欣景路8號 新都城2期 地下'}, {'影院名稱': 'Cinema City Candy Park', '院線': 'Cinema City', '電話': '2360-0910', '官網': 'http://www.cinemacity.com.hk/tc/site/cinemainfo/5', '地區': '新界', '行政分區': '荃灣區', '地址': '荃灣 愉景新城 第一層 1036號舖'}, {'影院名稱': 'MCL 德福戲院', '院線': 'MCL戲院', '電話': '2759-2248', '官網': 'http://www.mclcinema.com/MCLCinema.aspx?ci=005&visLang=1', '地區': '九龍', '行政分區': '觀塘區', '地址': '九龍塘 偉業街33號 德福花園 平台'}, {'影院名稱': 'UA K11 Art House', '院線': 'UA Cinemas', '電話': '3918-5888', '官網': 'https://www.uacinemas.com.hk/chi/cinema/1101', '地區': '九龍', '行政分區': '油尖旺區', '地址': '尖沙咀 梳士巴利道18號 Victoria Dockside K11 MUSEA L4 樓層'}, {'影院名稱': '英皇戲院 馬鞍山新港城中心', '院線': '英皇戲院', '電話': '2522-2996', '官網': 'https://www.emperorcinemas.com/zh/ticketing/by_date/3', '地區': '新界', '行政分區': '沙田區', '地址': '馬鞍山 鞍祿街18號 新港城中心 2樓'}, {'影院名稱': '巴黎倫敦紐約米蘭戲院', '院線': '华懋电影院线', '電話': '2452-2123', '官網': 'https://www.cel-cinemas.com/', '地區': '新界', '行政分區': '屯門區', '地址': '屯門 河傍街 康麗花園 地下'}, {'影院名稱': '百老匯 PALACE apm', '院線': '百老匯戲院', '電話': '2388-0002', '官網': 'http://www.cinema.com.hk/tc/site/cinemainfo/PALACE-apm/info', '地區': '九龍', '行政分區': '觀塘區', '地址': '觀塘 觀塘道418號 創紀之城五期apm 6樓'}, {'影院名稱': '嘉禾 黃埔', '院線': '嘉禾院線', '電話': '2622-6688', '官網': 'https://www.goldenharvest.com/cinema/schedule?cinema_id=8', '地區': '九龍', '行政分區': '九龍城區', '地址': '紅磡 德安街7號 黃埔花園第8期 黃埔廣場 2樓'}, {'影院名稱': 'MCL 海怡戲院', '院線': 'MCL戲院', '電話': '2180-7326', '官網': 'http://www.mclcinema.com/MCLCinema.aspx?ci=011&visLang=1', '地區': '港島', '行政分區': '南區', '地址': '鴨脷洲 海怡路18A 海怡半島商場東翼 4樓'}, {'影院名稱': 'UA MegaBox', '院線': 'UA Cinemas', '電話': '3918-5888', '官網': 'http://www.uacinemas.com.hk/chi/cinema/7', '地區': '九龍', '行政分區': '觀塘區', '地址': '九龍灣 宏照道38號 企業廣場5期 MegaBox 11樓'}, {'影院名稱': 'Cinema City Victoria', '院線': 'Cinema City', '電話': '2360-0910', '官網': 'http://www.cinemacity.com.hk/tc/site/cinemaInfo/4', '地區': '港島', '行政分區': '灣仔區', '地址': '銅鑼灣 糖街2-8號 地下'}, {'影院名稱': 'L Cinema', '院線': '獨立', '電話': '2209-4916', '官網': 'https://www.facebook.com/L-Cinema-Shau-Kei-Wan-463814693803369', '地區': '港島', '行政分區': '東區', '地址': '筲箕灣 望隆街 銀河廣場二樓'}, {'影院名稱': '英皇戲院 屯門新都商場', '院線': '英皇戲院', '電話': '2522-2996', '官網': 'https://www.emperorcinemas.com/zh/ticketing/by_date/2', '地區': '新界', '行政分區': '屯門區', '地址': '屯門 新都商場 二樓'}, {'影院名稱': 'UA 淘大', '院線': 'UA Cinemas', '電話': '3918-5888', '官網': 'https://www.uacinemas.com.hk/chi/cinema/16', '地區': '九龍', '行政分區': '觀塘區', '地址': '九龍灣 牛頭角道77號 淘大商場三期'}, {'影院名稱': '總統戲院', '院線': '新寶院線', '電話': '2836-5581', '官網': 'http://www.theatre.com.hk/tc/cinema/president_theatre', '地區': '港島', '行政分區': '灣仔區', '地址': '銅鑼灣 謝菲道517號'}, {'影院名稱': 'MCL Festival Grand Cinema', '院線': 'MCL戲院', '電話': '2237-1992', '官網': 'http://www.mclcinema.com/MCLCinema.aspx?ci=012&visLang=1', '地區': '九龍', '行政分區': '深水埗區', '地址': '九龍塘 達之路80號 又一城 UG層'}, {'影院名稱': 'CGV Cinemas D2 Place', '院線': 'CGV院線', '電話': '1544-1122', '官網': 'https://cgv.com.hk/', '地區': '九龍', '行政分區': '深水埗區', '地址': '荔枝角 長順街15號 D2 Place 二期 10-11樓'}, {'影院名稱': '百老匯 The ONE', '院線': '百老匯戲院', '電話': '2388-0002', '官網': 'http://www.cinema.com.hk/tc/site/cinemainfo/The-ONE/info', '地區': '九龍', '行政分區': '油尖旺區', '地址': '尖沙咀 彌敦道100號 The ONE 6-11樓'}, {'影院名稱': '百老匯 電影中心', '院線': '百老匯戲院', '電話': '2388-0002', '官網': 'http://www.cinema.com.hk/tc/site/cinemainfo/CINEMATHEQUE/info', '地區': '九龍', '行政分區': '油尖旺區', '地址': '油麻地 眾坊街3號 駿發花園 H2地舖'}, {'影院名稱': '百老匯 PREMIERE ELEMENTS', '院線': '百老匯戲院', '電話': '2388-0002', '官網': 'https://www.cinema.com.hk/tc/site/cinemainfo/PREMIERE-ELEMENTS/info', '地區': '九龍', '行政分區': '油尖旺區', '地址': '尖沙咀 柯士甸道西1號 圓方商場 2樓火區'}, {'影院名稱': '百老匯 嘉湖銀座', '院線': '百老匯戲院', '電話': '2388-0002', '官網': 'http://www.cinema.com.hk/tc/site/cinemainfo/KINGSWOOD-GINZA/info', '地區': '新界', '行政分區': '元朗區', '地址': '天水圍 天恩路18號 嘉湖銀座廣場'}, {'影院名稱': '新寶戲院', '院線': '新寶院線', '電話': '2332-1939', '官網': 'http://www.theatre.com.hk/tc/cinema/newport_theatre', '地區': '九龍', '行政分區': '油尖旺區', '地址': '旺角 豉油街60號'}, {'影院名稱': '星影匯', '院線': '獨立', '官網': 'http://www.metroplex.com.hk/', '地區': '九龍', '行政分區': '觀塘區', '地址': '九龍灣 展貿徑1號 九龍灣國際展貿中心E-Max 地下'}, {'影院名稱': 'Cinema City 柴灣', '院線': 'Cinema City', '電話': '2360-0910', '官網': 'http://www.cinemacity.com.hk/tc/site/cinemaInfo/2', '地區': '港島', '行政分區': '東區', '地址': '柴灣 柴灣道333號 永利中心 地下至4樓'}, {'影院名稱': 'MCL 皇室戲院', '院線': 'MCL戲院', '電話': '2129-0148', '官網': 'http://www.mclcinema.com/MCLCinema.aspx?ci=003&visLang=1', '地區': '港島', '行政分區': '灣仔區', '地址': '銅鑼灣 告士打道311號 皇室堡 4樓'}, {'影院名稱': '百老匯 荃灣', '院線': '百老匯戲院', '電話': '2388-0002', '官網': 'http://www.cinema.com.hk/tc/site/cinemainfo/TSUEN-WAN/info', '地區': '新界', '行政分區': '荃灣區', '地址': '荃灣 大壩街4-30號 荃灣廣場 L1-L3'}, {'影院名稱': '寶石戲院', '院線': '獨立', '電話': '2365-7116', '官網': 'https://www.facebook.com/LuxTheatre', '地區': '九龍', '行政分區': '九龍城區', '地址': '\\u200e紅磡 寶其利街2號J'}, {'影院名稱': '香港藝術中心古天樂電影院', '院線': '獨立', '電話': '2582-0200', '官網': 'https://hkac.org.hk/artsatthecentre_screening/', '地區': '港島', '行政分區': '灣仔區', '地址': 'wan港灣道2號 香港藝術中心 高層地庫'}, {'影院名稱': 'Cinema City 朗豪坊', '院線': 'Cinema City', '電話': '2360-0910', '官網': 'http://www.cinemacity.com.hk/tc/site/cinemaInfo/1', '地區': '九龍', '行政分區': '油尖旺區', '地址': '旺角 亞皆老街8號 朗豪坊商場 8至11樓'}, {'影院名稱': '元朗戲院', '院線': '獨立', '電話': '2317-6666', '官網': 'http://www.cityline.com/cinema/yuenlong_cinema.do', '地區': '新界', '行政分區': '元朗區', '地址': '元朗 炮仗坊8號'}, {'影院名稱': '凱都戲院', '院線': '新寶院線', '電話': '2459-4857', '官網': 'http://www.theatre.com.hk/tc/cinema/hyland_theatre', '地區': '新界', '行政分區': '屯門區', '地址': '屯門 鄉事會路136號'}, {'影院名稱': 'UA Cine Moko', '院線': 'UA Cinemas', '電話': '3918-5888', '官網': 'http://www.uacinemas.com.hk/chi/cinema/2', '地區': '九龍', '行政分區': '油尖旺區', '地址': '旺角 太子道西193號 新世紀廣場 L4樓'}, {'影院名稱': '嘉禾 海運戲院', '院線': '嘉禾院線', '電話': '2377-2100', '官網': 'https://www.goldenharvest.com/cinema/schedule?cinema_id=3', '地區': '九龍', '行政分區': '油尖旺區', '地址': '尖沙咀 廣東道3號 海運大廈 地下'}, {'影院名稱': '百老匯 葵芳', '院線': '百老匯戲院', '電話': '2388-0002', '官網': 'http://www.cinema.com.hk/tc/site/cinemainfo/KWAI-FONG/info', '地區': '新界', '行政分區': '葵青區', '地址': '葵芳 興芳路223號 新都會廣場 L1-L4'}, {'影院名稱': '嘉禾 粉嶺', '院線': '嘉禾院線', '官網': 'https://www.goldenharvest.com/cinema/schedule?cinema_id=6', '地區': '新界', '行政分區': '北區', '地址': '粉嶺 名都商場 8-9號舖'}, {'影院名稱': '嘉禾 V WALK', '院線': '嘉禾院線', '電話': '2790-2100', '官網': 'https://www.goldenharvest.com/cinema/schedule?cinema_id=12', '地區': '九龍', '行政分區': '深水埗區', '地址': '西九龍 港鐵南昌站 V Walk L2-139A'}, {'影院名稱': '百老匯 MOViE MOViE Cityplaza', '院線': '百老匯戲院', '電話': '2388-0002', '官網': 'http://www.cinema.com.hk/tc/site/cinemainfo/MOViE-MOViE-Cityplaza/info', '地區': '港島', '行政分區': '東區', '地址': '太古 太古城道18號 太古城中心1期 5樓'}, {'影院名稱': '嘉禾 啟德', '院線': '嘉禾院線', '電話': '2615-2333', '官網': 'https://www.goldenharvest.com/cinema/schedule?cinema_id=11', '地區': '九龍', '行政分區': '黃大仙區', '地址': '新蒲崗 寧遠街9號 越秀廣場 3樓'}, {'影院名稱': '英皇戲院 中環娛樂行', '院線': '英皇戲院', '電話': '2522-2996', '官網': 'https://www.emperorcinemas.com/zh/ticketing/by_date/1', '地區': '港島', '行政分區': '中西區', '地址': '中環 皇后大道中30號 娛樂行 3樓'}, {'影院名稱': 'AMC Pacific Place', '院線': 'AMC', '電話': '2265-8933', '官網': 'http://www.amccinemas.com.hk/', '地區': '港島', '行政分區': '中西區', '地址': '金鐘 金鐘道88號 太古廣場L1'}, {'影院名稱': 'Cinema City JP', '院線': 'Cinema City', '電話': '2360-0910', '官網': 'http://www.cinemacity.com.hk/tc/site/cinemaInfo/3', '地區': '港島', '行政分區': '灣仔區', '地址': '銅鑼灣 百德新街22-36號 翡翠明珠廣場'}]\n",
      "\n",
      "\n"
     ]
    }
   ],
   "source": [
    "import requests\n",
    "\n",
    "headers = {\n",
    "'Authorization': 'Bearer key03pQCloI106IjB',\n",
    "}\n",
    "\n",
    "params = (\n",
    "('view', 'Grid view'),\n",
    ")\n",
    "\n",
    "r = requests.get('https://api.airtable.com/v0/app1P4WMm8TLUBirX/HKCinema?api_key=key03pQCloI106IjB&sortField=_createdTime&sortDirection=desc', headers=headers, params=params)\n",
    "dict = r.json()\n",
    "dataset = []\n",
    "影院名稱 = []\n",
    "院線 = []\n",
    "電話 = []\n",
    "for i in dict['records']:\n",
    "     dict = i['fields']\n",
    "     dataset.append(dict)\n",
    "print(dataset)\n",
    "print('\\n')\n",
    "for dicts in dataset:\n",
    "    影院名稱.append(dicts.get('影院名稱'))\n",
    "    院線.append(dicts.get('院線'))\n",
    "    電話.append(dicts.get('電話'))"
   ]
  },
  {
   "cell_type": "code",
   "execution_count": null,
   "metadata": {},
   "outputs": [],
   "source": []
  }
 ],
 "metadata": {
  "kernelspec": {
   "display_name": "Python 3",
   "language": "python",
   "name": "python3"
  },
  "language_info": {
   "codemirror_mode": {
    "name": "ipython",
    "version": 3
   },
   "file_extension": ".py",
   "mimetype": "text/x-python",
   "name": "python",
   "nbconvert_exporter": "python",
   "pygments_lexer": "ipython3",
   "version": "3.7.4"
  }
 },
 "nbformat": 4,
 "nbformat_minor": 2
}
